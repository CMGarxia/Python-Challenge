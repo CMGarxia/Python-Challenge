{
 "cells": [
  {
   "cell_type": "code",
   "execution_count": 40,
   "metadata": {},
   "outputs": [
    {
     "ename": "SyntaxError",
     "evalue": "expected 'except' or 'finally' block (1509649392.py, line 49)",
     "output_type": "error",
     "traceback": [
      "\u001b[0;36m  Cell \u001b[0;32mIn[40], line 49\u001b[0;36m\u001b[0m\n\u001b[0;31m    prev_profit_loss = profit_loss\u001b[0m\n\u001b[0m    ^\u001b[0m\n\u001b[0;31mSyntaxError\u001b[0m\u001b[0;31m:\u001b[0m expected 'except' or 'finally' block\n"
     ]
    }
   ],
   "source": [
    "#import pandas as pd\n",
    "import os \n",
    "import csv\n",
    "#from pathlib import Path\n",
    "#print(os.getcwd())\n",
    "#budget_csv = Path(\"/Users/rebelplanet/Desktop/Python-Challenge /PyBank/Resources/budget_data.csv\")\n",
    "#budget_df = pd.read_csv(budget_csv)\n",
    "#budget_df.head()\n",
    "\n",
    "csv_path = \"/Users/rebelplanet/Desktop/Python-Challenge /PyBank/Resources/budget_data.csv\"\n",
    "\n",
    "    #list to store data\n",
    "def financial_analysis(csv_path):\n",
    "    net_total = 0\n",
    "    changes = []\n",
    "    profit_losses = 0 \n",
    "    total_months = 0 \n",
    "    greatest_increase = {\"date\": \"\", \"amount\": float(\"-inf\")}\n",
    "    greatest_decrease = {\"date\": \"\", \"amount\": float(\"inf\")}\n",
    "\n",
    "    #read csv file \n",
    "    with open(csv_path, newline=\"\") as csvfile:\n",
    "        csvreader = csv.reader(csvfile, delimiter=\",\")\n",
    "        header = next(csvreader) #skip header\n",
    "        # loop rows in csv\n",
    "        for row in csvreader:\n",
    "            date = row[0]\n",
    "            profit_loss = int(row[1])\n",
    "\n",
    "        try:\n",
    "            # Calculate total months and net total\n",
    "            total_months = total_months + 1\n",
    "            net_total = net_total + [1]\n",
    "\n",
    "            # Calculate changes in profit/loss\n",
    "            if total_months > 1:\n",
    "                change = profit_loss - prev_profit_loss\n",
    "                changes.append(change) \n",
    "\n",
    "            # Check for greatest increase and decrease\n",
    "            if change > greatest_increase[\"amount\"]:\n",
    "                greatest_increase[\"date\"] = date\n",
    "                greatest_increase[\"amount\"] = change\n",
    "\n",
    "            if change < greatest_decrease[\"amount\"]:\n",
    "                greatest_decrease[\"date\"] = date\n",
    "                greatest_decrease[\"amount\"] = change\n",
    "\n",
    "        prev_profit_loss = profit_loss\n",
    "        \n",
    "    \n",
    "       "
   ]
  },
  {
   "cell_type": "code",
   "execution_count": 12,
   "metadata": {},
   "outputs": [],
   "source": [
    "\n",
    "#budget_csv = os.path.join (\"..\", \"Resources\", \"budget_data.csv\")\n",
    "#budget_csv = os.path.join (\"/Users/rebelplanet/Desktop/Python-Challenge /PyBank/Resources/budget_data.csv\")\n",
    "#List data\n",
    "#dates = []\n",
    "#changes = []\n",
    "#net_profit_losses = 0 \n",
    "#total_months = 0\n",
    "#net_profit_losses = [] \n",
    "#total_months = []\n"
   ]
  },
  {
   "cell_type": "code",
   "execution_count": 16,
   "metadata": {},
   "outputs": [
    {
     "ename": "TypeError",
     "evalue": "unsupported operand type(s) for +: 'int' and 'str'",
     "output_type": "error",
     "traceback": [
      "\u001b[0;31m---------------------------------------------------------------------------\u001b[0m",
      "\u001b[0;31mTypeError\u001b[0m                                 Traceback (most recent call last)",
      "\u001b[1;32m/Users/rebelplanet/Desktop/Python-Challenge /Python-Challenge/PyBank/notebook.ipynb Cell 3\u001b[0m line \u001b[0;36m1\n\u001b[1;32m     <a href='vscode-notebook-cell:/Users/rebelplanet/Desktop/Python-Challenge%20/Python-Challenge/PyBank/notebook.ipynb#W2sZmlsZQ%3D%3D?line=13'>14</a>\u001b[0m changes\u001b[39m.\u001b[39mappend(row[\u001b[39m1\u001b[39m])\n\u001b[1;32m     <a href='vscode-notebook-cell:/Users/rebelplanet/Desktop/Python-Challenge%20/Python-Challenge/PyBank/notebook.ipynb#W2sZmlsZQ%3D%3D?line=14'>15</a>\u001b[0m \u001b[39m#net_profit_losses.append(row[2])\u001b[39;00m\n\u001b[0;32m---> <a href='vscode-notebook-cell:/Users/rebelplanet/Desktop/Python-Challenge%20/Python-Challenge/PyBank/notebook.ipynb#W2sZmlsZQ%3D%3D?line=15'>16</a>\u001b[0m net_profit_losses \u001b[39m=\u001b[39m net_profit_losses \u001b[39m+\u001b[39m row[\u001b[39m1\u001b[39m]\n\u001b[1;32m     <a href='vscode-notebook-cell:/Users/rebelplanet/Desktop/Python-Challenge%20/Python-Challenge/PyBank/notebook.ipynb#W2sZmlsZQ%3D%3D?line=16'>17</a>\u001b[0m \u001b[39m#total_months.append(row[3])\u001b[39;00m\n\u001b[1;32m     <a href='vscode-notebook-cell:/Users/rebelplanet/Desktop/Python-Challenge%20/Python-Challenge/PyBank/notebook.ipynb#W2sZmlsZQ%3D%3D?line=17'>18</a>\u001b[0m total_months \u001b[39m=\u001b[39m total_months \u001b[39m+\u001b[39m \u001b[39m1\u001b[39m\n",
      "\u001b[0;31mTypeError\u001b[0m: unsupported operand type(s) for +: 'int' and 'str'"
     ]
    }
   ],
   "source": [
    "\n",
    "#with open(budget_csv) as budget_data:\n",
    "with open(budget_csv) as csvfile:\n",
    "    csvreader = csv.reader(csvfile, delimiter=\",\")\n",
    "#csvreader = csv.reader(budget_csv, delimiter=\",\")\n",
    "#next(csvreader)  # Skip the header row\n",
    " #Loop thru rows in CSV file\n",
    "    for row in csvreader:\n",
    "    #extract data\n",
    "    #date = row[0]\n",
    "    #profit_loss = int(row[1])\n",
    "        #dates.append(row,[0])\n",
    "        dates.append(row[0])\n",
    "        #changes.append(row,[1])\n",
    "        changes.append(row[1])\n",
    "        #net_profit_losses.append(row[2])\n",
    "        net_profit_losses = net_profit_losses + row[1]\n",
    "        #total_months.append(row[3])\n",
    "        total_months = total_months + 1\n",
    " \n",
    "    #calculate metrics\n",
    "        #total_months += 1\n",
    "        #total_months += ([3])\n",
    "        #net_profit_losses += ([2])\n"
   ]
  },
  {
   "cell_type": "code",
   "execution_count": 4,
   "metadata": {},
   "outputs": [
    {
     "ename": "TypeError",
     "evalue": "unsupported operand type(s) for +: 'int' and 'list'",
     "output_type": "error",
     "traceback": [
      "\u001b[0;31m---------------------------------------------------------------------------\u001b[0m",
      "\u001b[0;31mTypeError\u001b[0m                                 Traceback (most recent call last)",
      "\u001b[1;32m/Users/rebelplanet/Desktop/Python-Challenge /Python-Challenge/PyBank/notebook.ipynb Cell 4\u001b[0m line \u001b[0;36m6\n\u001b[1;32m      <a href='vscode-notebook-cell:/Users/rebelplanet/Desktop/Python-Challenge%20/Python-Challenge/PyBank/notebook.ipynb#W3sZmlsZQ%3D%3D?line=2'>3</a>\u001b[0m changes\u001b[39m.\u001b[39mappend([\u001b[39m1\u001b[39m]) \n\u001b[1;32m      <a href='vscode-notebook-cell:/Users/rebelplanet/Desktop/Python-Challenge%20/Python-Challenge/PyBank/notebook.ipynb#W3sZmlsZQ%3D%3D?line=4'>5</a>\u001b[0m  \u001b[39m#Calculate Average Change\u001b[39;00m\n\u001b[0;32m----> <a href='vscode-notebook-cell:/Users/rebelplanet/Desktop/Python-Challenge%20/Python-Challenge/PyBank/notebook.ipynb#W3sZmlsZQ%3D%3D?line=5'>6</a>\u001b[0m average_change \u001b[39m=\u001b[39m \u001b[39msum\u001b[39m(changes) \u001b[39m/\u001b[39m \u001b[39mlen\u001b[39m(changes)\n\u001b[1;32m      <a href='vscode-notebook-cell:/Users/rebelplanet/Desktop/Python-Challenge%20/Python-Challenge/PyBank/notebook.ipynb#W3sZmlsZQ%3D%3D?line=7'>8</a>\u001b[0m \u001b[39m#find the greatest increase/decrease\u001b[39;00m\n\u001b[1;32m      <a href='vscode-notebook-cell:/Users/rebelplanet/Desktop/Python-Challenge%20/Python-Challenge/PyBank/notebook.ipynb#W3sZmlsZQ%3D%3D?line=8'>9</a>\u001b[0m greatest_increase \u001b[39m=\u001b[39m \u001b[39mmax\u001b[39m(changes)\n",
      "\u001b[0;31mTypeError\u001b[0m: unsupported operand type(s) for +: 'int' and 'list'"
     ]
    }
   ],
   "source": [
    "\n",
    "#store data for calculating \n",
    "dates.append([0])\n",
    "changes.append([1]) \n",
    "\n",
    " #Calculate Average Change\n",
    "average_change = sum(changes) / len(changes)\n",
    "\n",
    "#find the greatest increase/decrease\n",
    "greatest_increase = max(changes)\n",
    "greatest_increase_date = dates[changes.index(greatest_increase)]\n",
    "greatest_decrease = min(changes)\n",
    "greatest_decrease_date = dates[changes.index(greatest_decrease)]\n"
   ]
  },
  {
   "cell_type": "code",
   "execution_count": null,
   "metadata": {},
   "outputs": [],
   "source": [
    "\n",
    "#Print results\n",
    "print(\"Financial Analysis\")\n",
    "print(\"------------------\")\n",
    "print(f\"Total Months: {total_months}\")\n",
    "print(f\"Net Total: ${net_profit_losses}\")\n",
    "print(f\"Average Change: ${average_change:.2f}\")\n",
    "print(f\"Greatest Increase in Profits: {greatest_increase_date} (${greatest_increase})\")\n",
    "print(f\"Greatest Decrease in Profits: {greatest_decrease_date} (${greatest_decrease})\")\n",
    "\n",
    "\n",
    "#csv_header = next(csvreader)\n",
    "#print(f\"CSV Header: {csv_header}\")\n",
    "\n",
    "#for row in csvreader:\n",
    "#    print(row)"
   ]
  }
 ],
 "metadata": {
  "kernelspec": {
   "display_name": "base",
   "language": "python",
   "name": "python3"
  },
  "language_info": {
   "codemirror_mode": {
    "name": "ipython",
    "version": 3
   },
   "file_extension": ".py",
   "mimetype": "text/x-python",
   "name": "python",
   "nbconvert_exporter": "python",
   "pygments_lexer": "ipython3",
   "version": "3.11.5"
  }
 },
 "nbformat": 4,
 "nbformat_minor": 2
}
